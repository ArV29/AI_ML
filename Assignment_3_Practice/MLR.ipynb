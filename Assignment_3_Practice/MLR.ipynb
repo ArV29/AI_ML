{
 "cells": [
  {
   "cell_type": "code",
   "execution_count": 3,
   "metadata": {},
   "outputs": [
    {
     "name": "stdout",
     "output_type": "stream",
     "text": [
      "Train R-Squared Value: 0.9461420349790942\n",
      "Test R-Squared Value:  0.9461876397096064\n",
      "Train R-Squared Score: 0.8000460313475691\n",
      "Test R-Squared Score: 0.5761807978119948\n",
      "Train R-Squared Score: 0.0780627521877707\n",
      "Test R-Squared Score: -0.20614737881574774\n",
      "Train R-Squared Score: 0.8624118096886481\n",
      "Test R-Squared Score: 0.7646845031002917\n",
      "Train R-Squared Score: 0.008369891295985976\n",
      "Test R-Squared Score: 0.08853940177043607\n",
      "Train R-Squared Score: 0.9325689016375598\n",
      "Test R-Squared Score: 0.9693040473553439\n",
      "Train R-Squared Score: 0.9412136389206366\n",
      "Test R-Squared Score: 0.9547526694917714\n"
     ]
    }
   ],
   "source": [
    "from sklearn.linear_model import LinearRegression\n",
    "from sklearn.model_selection import train_test_split\n",
    "from sklearn.compose import ColumnTransformer\n",
    "from sklearn.preprocessing import OneHotEncoder\n",
    "import numpy as np\n",
    "import pandas as pd\n",
    "data = pd.read_csv(\"housing_prices.csv\")\n",
    "x = data[['AREA', 'FLOOR', 'ROOM', 'CODE']].values\n",
    "y = data['PRICE'].values\n",
    "ct = ColumnTransformer([(\"\", OneHotEncoder(), [3])], remainder=\"passthrough\")\n",
    "x = ct.fit_transform(x)\n",
    "x = x[:, 1:]\n",
    "x_train, x_test, y_train, y_test = train_test_split(\n",
    "    x, y, test_size=0.2, random_state=42)\n",
    "regressor = LinearRegression()\n",
    "regressor.fit(x_train, y_train)\n",
    "y_train_pred = regressor.predict(x_train)\n",
    "y_pred = regressor.predict(x_test)\n",
    "print(\"Train R-Squared Value:\", regressor.score(x_train, y_train))\n",
    "print(\"Test R-Squared Value: \", regressor.score(x_test, y_test))\n",
    "area_model = LinearRegression()\n",
    "area_model.fit(x_train[:, 1:2], y_train)\n",
    "print(\"Train R-Squared Score:\", area_model.score(x_train[:, 1:2], y_train))\n",
    "print(\"Test R-Squared Score:\", area_model.score(x_test[:, 1:2], y_test))\n",
    "floor_model = LinearRegression()\n",
    "floor_model.fit(x_train[:, 2:3], y_train)\n",
    "print(\"Train R-Squared Score:\", floor_model.score(x_train[:, 2:3], y_train))\n",
    "print(\"Test R-Squared Score:\", floor_model.score(x_test[:, 2:3], y_test))\n",
    "room_model = LinearRegression()\n",
    "room_model.fit(x_train[:, 3:4], y_train)\n",
    "print(\"Train R-Squared Score:\", room_model.score(x_train[:, 3:4], y_train))\n",
    "print(\"Test R-Squared Score:\", room_model.score(x_test[:, 3:4], y_test))\n",
    "location_model = LinearRegression()\n",
    "location_model.fit(x_train[:, 0:1], y_train)\n",
    "print(\"Train R-Squared Score:\", location_model.score(x_train[:, 0:1], y_train))\n",
    "print(\"Test R-Squared Score:\", location_model.score(x_test[:, 0:1], y_test))\n",
    "top2f_model = LinearRegression()\n",
    "top2f_model.fit(x_train[:, [1, 3]], y_train)\n",
    "print(\"Train R-Squared Score:\", top2f_model.score(x_train[:, [1, 3]], y_train))\n",
    "print(\"Test R-Squared Score:\", top2f_model.score(x_test[:, [1, 3]], y_test))\n",
    "top3f_model = LinearRegression()\n",
    "top3f_model.fit(x_train[:, 1:], y_train)\n",
    "print(\"Train R-Squared Score:\", top3f_model.score(x_train[:, 1:], y_train))\n",
    "print(\"Test R-Squared Score:\", top3f_model.score(x_test[:, 1:], y_test))\n"
   ]
  }
 ],
 "metadata": {
  "interpreter": {
   "hash": "e7370f93d1d0cde622a1f8e1c04877d8463912d04d973331ad4851f04de6915a"
  },
  "kernelspec": {
   "display_name": "Python 3.9.7 64-bit",
   "name": "python3"
  },
  "language_info": {
   "codemirror_mode": {
    "name": "ipython",
    "version": 3
   },
   "file_extension": ".py",
   "mimetype": "text/x-python",
   "name": "python",
   "nbconvert_exporter": "python",
   "pygments_lexer": "ipython3",
   "version": "3.9.7"
  },
  "orig_nbformat": 4
 },
 "nbformat": 4,
 "nbformat_minor": 2
}
