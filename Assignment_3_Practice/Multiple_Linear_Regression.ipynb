{
 "cells": [
  {
   "cell_type": "markdown",
   "metadata": {},
   "source": [
    "<h1>Reading the data file</h1>"
   ]
  },
  {
   "cell_type": "code",
   "execution_count": 2,
   "metadata": {},
   "outputs": [
    {
     "data": {
      "text/plain": [
       "(50,)"
      ]
     },
     "execution_count": 2,
     "metadata": {},
     "output_type": "execute_result"
    }
   ],
   "source": [
    "import numpy as np\n",
    "import pandas as pd\n",
    "data = pd.read_csv(\"housing_prices.csv\")\n",
    "x = data[['AREA', 'FLOOR', 'ROOM', 'CODE']].values\n",
    "y = data['PRICE'].values"
   ]
  },
  {
   "cell_type": "markdown",
   "metadata": {},
   "source": [
    "<h1>Encoding Categorical Data"
   ]
  },
  {
   "cell_type": "code",
   "execution_count": 23,
   "metadata": {},
   "outputs": [],
   "source": [
    "from sklearn.preprocessing import OneHotEncoder\n",
    "from sklearn.compose import ColumnTransformer\n",
    "ct = ColumnTransformer([(\"\", OneHotEncoder(), [3])], remainder=\"passthrough\")\n",
    "x = ct.fit_transform(x)"
   ]
  },
  {
   "cell_type": "markdown",
   "metadata": {},
   "source": [
    "We only need one of either A/B"
   ]
  },
  {
   "cell_type": "code",
   "execution_count": 24,
   "metadata": {},
   "outputs": [],
   "source": [
    "x = x[ : , 1: ]"
   ]
  },
  {
   "cell_type": "markdown",
   "metadata": {},
   "source": [
    "<h1>Splitting Data into Training and Testing sets"
   ]
  },
  {
   "cell_type": "code",
   "execution_count": 25,
   "metadata": {},
   "outputs": [],
   "source": [
    "from sklearn.model_selection import train_test_split\n",
    "x_train, x_test, y_train, y_test = train_test_split(x, y, test_size = 0.2, random_state=42) "
   ]
  },
  {
   "cell_type": "markdown",
   "metadata": {},
   "source": [
    "<h1>Applying the Linear Regression Model"
   ]
  },
  {
   "cell_type": "code",
   "execution_count": 26,
   "metadata": {},
   "outputs": [],
   "source": [
    "from sklearn.linear_model import LinearRegression\n",
    "regressor = LinearRegression()"
   ]
  },
  {
   "cell_type": "markdown",
   "metadata": {},
   "source": [
    "<h1>Every Function vs Price Model"
   ]
  },
  {
   "cell_type": "code",
   "execution_count": 27,
   "metadata": {},
   "outputs": [
    {
     "name": "stdout",
     "output_type": "stream",
     "text": [
      "Train R-Squared Value: 0.9461420349790942\n",
      "Test R-Squared Value:  0.9461876397096064\n"
     ]
    }
   ],
   "source": [
    "regressor.fit(x_train, y_train)\n",
    "y_train_pred = regressor.predict(x_train)\n",
    "y_pred = regressor.predict(x_test)\n",
    "print(\"Train R-Squared Value:\", regressor.score(x_train, y_train))\n",
    "print(\"Test R-Squared Value: \", regressor.score(x_test, y_test))"
   ]
  },
  {
   "cell_type": "markdown",
   "metadata": {},
   "source": [
    "<h1>Area vs Price Model"
   ]
  },
  {
   "cell_type": "code",
   "execution_count": 28,
   "metadata": {},
   "outputs": [
    {
     "name": "stdout",
     "output_type": "stream",
     "text": [
      "Train R-Squared Score: 0.8000460313475691\n",
      "Test R-Squared Score: 0.5761807978119948\n"
     ]
    }
   ],
   "source": [
    "area_model = LinearRegression()\n",
    "area_model.fit(x_train[:, 1:2], y_train)\n",
    "print(\"Train R-Squared Score:\", area_model.score(x_train[:, 1:2], y_train))\n",
    "print(\"Test R-Squared Score:\", area_model.score(x_test[:, 1:2], y_test))\n"
   ]
  },
  {
   "cell_type": "markdown",
   "metadata": {},
   "source": [
    "<h1>Floor Level vs Price Model"
   ]
  },
  {
   "cell_type": "code",
   "execution_count": 29,
   "metadata": {},
   "outputs": [
    {
     "name": "stdout",
     "output_type": "stream",
     "text": [
      "Train R-Squared Score: 0.0780627521877707\n",
      "Test R-Squared Score: -0.20614737881574774\n"
     ]
    }
   ],
   "source": [
    "floor_model = LinearRegression()\n",
    "floor_model.fit(x_train[:, 2:3], y_train)\n",
    "print(\"Train R-Squared Score:\", floor_model.score(x_train[:, 2:3], y_train))\n",
    "print(\"Test R-Squared Score:\", floor_model.score(x_test[:, 2:3], y_test))"
   ]
  },
  {
   "cell_type": "markdown",
   "metadata": {},
   "source": [
    "<h1> Number of Rooms vs Price Model"
   ]
  },
  {
   "cell_type": "code",
   "execution_count": 30,
   "metadata": {},
   "outputs": [
    {
     "name": "stdout",
     "output_type": "stream",
     "text": [
      "Train R-Squared Score: 0.8624118096886481\n",
      "Test R-Squared Score: 0.7646845031002917\n"
     ]
    }
   ],
   "source": [
    "room_model = LinearRegression()\n",
    "room_model.fit(x_train[:, 3:4], y_train)\n",
    "print(\"Train R-Squared Score:\", room_model.score(x_train[:, 3:4], y_train))\n",
    "print(\"Test R-Squared Score:\", room_model.score(x_test[:, 3:4], y_test))\n"
   ]
  },
  {
   "cell_type": "markdown",
   "metadata": {},
   "source": [
    "<h1>Location vs Price Model"
   ]
  },
  {
   "cell_type": "code",
   "execution_count": 31,
   "metadata": {},
   "outputs": [
    {
     "name": "stdout",
     "output_type": "stream",
     "text": [
      "Train R-Squared Score: 0.008369891295985976\n",
      "Test R-Squared Score: 0.08853940177043607\n"
     ]
    }
   ],
   "source": [
    "location_model = LinearRegression()\n",
    "location_model.fit(x_train[:, 0:1], y_train)\n",
    "print(\"Train R-Squared Score:\", location_model.score(x_train[:, 0:1], y_train))\n",
    "print(\"Test R-Squared Score:\", location_model.score(x_test[:, 0:1], y_test))\n"
   ]
  },
  {
   "cell_type": "markdown",
   "metadata": {},
   "source": [
    "<h1> Area & Number of Rooms vs Price Model</h1>\n",
    "\n",
    "<h2>This model comprises of the two top performing functions"
   ]
  },
  {
   "cell_type": "code",
   "execution_count": 32,
   "metadata": {},
   "outputs": [
    {
     "name": "stdout",
     "output_type": "stream",
     "text": [
      "Train R-Squared Score: 0.9325689016375598\n",
      "Test R-Squared Score: 0.9693040473553439\n"
     ]
    }
   ],
   "source": [
    "top2f_model = LinearRegression()\n",
    "top2f_model.fit(x_train[:, [1, 3]], y_train)\n",
    "print(\"Train R-Squared Score:\", top2f_model.score(x_train[:, [1, 3]], y_train))\n",
    "print(\"Test R-Squared Score:\", top2f_model.score(x_test[:, [1, 3]], y_test))\n"
   ]
  },
  {
   "cell_type": "markdown",
   "metadata": {},
   "source": [
    "<h1> Area + Number of Rooms + Floor Level vs Price Model </h1>\n",
    "\n",
    "<h2>This model comprises of the three top performing functions\n"
   ]
  },
  {
   "cell_type": "code",
   "execution_count": 33,
   "metadata": {},
   "outputs": [
    {
     "name": "stdout",
     "output_type": "stream",
     "text": [
      "Train R-Squared Score: 0.9412136389206366\n",
      "Test R-Squared Score: 0.9547526694917714\n"
     ]
    }
   ],
   "source": [
    "top3f_model = LinearRegression()\n",
    "top3f_model.fit(x_train[:, 1:], y_train)\n",
    "print(\"Train R-Squared Score:\",top3f_model.score(x_train[:, 1:], y_train))\n",
    "print(\"Test R-Squared Score:\", top3f_model.score(x_test[:, 1:], y_test))"
   ]
  },
  {
   "cell_type": "markdown",
   "metadata": {},
   "source": [
    "<h2>This model gives the best R-Squared Score, even better than the model taking into consideration all the parameters"
   ]
  }
 ],
 "metadata": {
  "interpreter": {
   "hash": "e7370f93d1d0cde622a1f8e1c04877d8463912d04d973331ad4851f04de6915a"
  },
  "kernelspec": {
   "display_name": "Python 3.9.7 64-bit",
   "name": "python3"
  },
  "language_info": {
   "codemirror_mode": {
    "name": "ipython",
    "version": 3
   },
   "file_extension": ".py",
   "mimetype": "text/x-python",
   "name": "python",
   "nbconvert_exporter": "python",
   "pygments_lexer": "ipython3",
   "version": "3.9.7"
  },
  "orig_nbformat": 4
 },
 "nbformat": 4,
 "nbformat_minor": 2
}
