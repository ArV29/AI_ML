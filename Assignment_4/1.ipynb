{
 "cells": [
  {
   "cell_type": "code",
   "execution_count": 2,
   "metadata": {},
   "outputs": [
    {
     "name": "stdout",
     "output_type": "stream",
     "text": [
      "Using a LINEAR kernel and SEPAL features\n",
      "Train Data Score: 0.8166666666666667\n",
      "Test Data Score: 0.8\n",
      "Using a SIGMOID kernel and SEPAL features\n",
      "Train Data Score: 0.38333333333333336\n",
      "Test Data Score: 0.13333333333333333\n",
      "Using a RBF kernel and SEPAL features\n",
      "Train Data Score: 0.8333333333333334\n",
      "Test Data Score: 0.8333333333333334\n",
      "Using a POLY kernel and SEPAL features\n",
      "Train Data Score: 0.8166666666666667\n",
      "Test Data Score: 0.7666666666666667\n",
      "Using a LINEAR kernel and PETAL features\n",
      "Train Data Score: 0.7416666666666667\n",
      "Test Data Score: 0.5333333333333333\n",
      "Using a SIGMOID kernel and PETAL features\n",
      "Train Data Score: 0.38333333333333336\n",
      "Test Data Score: 0.13333333333333333\n",
      "Using a RBF kernel and PETAL features\n",
      "Train Data Score: 0.9583333333333334\n",
      "Test Data Score: 0.9333333333333333\n",
      "Using a POLY kernel and PETAL features\n",
      "Train Data Score: 0.975\n",
      "Test Data Score: 0.9333333333333333\n"
     ]
    }
   ],
   "source": [
    "from sklearn.svm import SVC\n",
    "from sklearn.model_selection import train_test_split\n",
    "import pandas as pd\n",
    "import numpy as np\n",
    "from sklearn import datasets\n",
    "\n",
    "iris = datasets.load_iris()\n",
    "X = iris.data\n",
    "y = iris.target\n",
    "\n",
    "X_train, X_test, y_train, y_test = train_test_split(X, y, test_size=0.2, random_state=5)\n",
    "x_train = X_train[:, 0:2]\n",
    "x_test = X_test[:, 0:2]\n",
    "svn_classifier = SVC(kernel=\"linear\")\n",
    "svn_classifier.fit(x_train, y_train)\n",
    "print(\"Using a LINEAR kernel and SEPAL features\")\n",
    "print(\"Train Data Score:\", svn_classifier.score(x_train, y_train))\n",
    "print(\"Test Data Score:\", svn_classifier.score(x_test, y_test))\n",
    "svn_classifier = SVC(kernel=\"sigmoid\")\n",
    "svn_classifier.fit(x_train, y_train)\n",
    "print(\"Using a SIGMOID kernel and SEPAL features\")\n",
    "print(\"Train Data Score:\", svn_classifier.score(x_train, y_train))\n",
    "print(\"Test Data Score:\", svn_classifier.score(x_test, y_test))\n",
    "svn_classifier = SVC(kernel=\"rbf\")\n",
    "svn_classifier.fit(x_train, y_train)\n",
    "print(\"Using a RBF kernel and SEPAL features\")\n",
    "print(\"Train Data Score:\", svn_classifier.score(x_train, y_train))\n",
    "print(\"Test Data Score:\", svn_classifier.score(x_test, y_test))\n",
    "svn_classifier = SVC(kernel=\"poly\", degree=3)\n",
    "svn_classifier.fit(x_train, y_train)\n",
    "print(\"Using a POLY kernel and SEPAL features\")\n",
    "print(\"Train Data Score:\", svn_classifier.score(x_train, y_train))\n",
    "print(\"Test Data Score:\", svn_classifier.score(x_test, y_test))\n",
    "svn_classifier = SVC(kernel=\"linear\")\n",
    "svn_classifier.fit(x_train, y_train)\n",
    "x_train = X_train[:, 2:]\n",
    "x_test = X_test[:, 2:]\n",
    "print(\"Using a LINEAR kernel and PETAL features\")\n",
    "print(\"Train Data Score:\", svn_classifier.score(x_train, y_train))\n",
    "print(\"Test Data Score:\", svn_classifier.score(x_test, y_test))\n",
    "svn_classifier = SVC(kernel=\"sigmoid\")\n",
    "svn_classifier.fit(x_train, y_train)\n",
    "print(\"Using a SIGMOID kernel and PETAL features\")\n",
    "print(\"Train Data Score:\", svn_classifier.score(x_train, y_train))\n",
    "print(\"Test Data Score:\", svn_classifier.score(x_test, y_test))\n",
    "svn_classifier = SVC(kernel=\"rbf\")\n",
    "svn_classifier.fit(x_train, y_train)\n",
    "print(\"Using a RBF kernel and PETAL features\")\n",
    "print(\"Train Data Score:\", svn_classifier.score(x_train, y_train))\n",
    "print(\"Test Data Score:\", svn_classifier.score(x_test, y_test))\n",
    "svn_classifier = SVC(kernel=\"poly\", degree=3)\n",
    "svn_classifier.fit(x_train, y_train)\n",
    "print(\"Using a POLY kernel and PETAL features\")\n",
    "print(\"Train Data Score:\", svn_classifier.score(x_train, y_train))\n",
    "print(\"Test Data Score:\", svn_classifier.score(x_test, y_test))\n"
   ]
  }
 ],
 "metadata": {
  "interpreter": {
   "hash": "e7370f93d1d0cde622a1f8e1c04877d8463912d04d973331ad4851f04de6915a"
  },
  "kernelspec": {
   "display_name": "Python 3.9.7 64-bit",
   "language": "python",
   "name": "python3"
  },
  "language_info": {
   "codemirror_mode": {
    "name": "ipython",
    "version": 3
   },
   "file_extension": ".py",
   "mimetype": "text/x-python",
   "name": "python",
   "nbconvert_exporter": "python",
   "pygments_lexer": "ipython3",
   "version": "3.9.7"
  },
  "orig_nbformat": 4
 },
 "nbformat": 4,
 "nbformat_minor": 2
}
