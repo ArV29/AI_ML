{
 "cells": [
  {
   "cell_type": "markdown",
   "metadata": {},
   "source": [
    "<h1>Importing Modules and Reading the dataset"
   ]
  },
  {
   "cell_type": "code",
   "execution_count": 2,
   "metadata": {},
   "outputs": [],
   "source": [
    "import numpy as np\n",
    "import pandas as pd"
   ]
  },
  {
   "cell_type": "code",
   "execution_count": 3,
   "metadata": {},
   "outputs": [],
   "source": [
    "data = pd.read_csv('regression_problem.xls')\n",
    "x = data[['Employees', 'Products', 'Clients', 'Turnover', 'Atrition']].values\n",
    "y = data[['Profit']].values\n"
   ]
  },
  {
   "cell_type": "markdown",
   "metadata": {},
   "source": [
    "<H1>Splitting into Testing and Training Set"
   ]
  },
  {
   "cell_type": "code",
   "execution_count": 7,
   "metadata": {},
   "outputs": [],
   "source": [
    "from sklearn.model_selection import train_test_split\n",
    "x_train, x_test, y_train, y_test = train_test_split(x, y, test_size = 0.2, random_state=29) "
   ]
  },
  {
   "cell_type": "markdown",
   "metadata": {},
   "source": [
    "<H1>Using Linear and Polynomial Regression to create prediction models\n",
    "<h2>Checking for polynomial regression till order of 10 to get a clear understanding"
   ]
  },
  {
   "cell_type": "code",
   "execution_count": 5,
   "metadata": {},
   "outputs": [],
   "source": [
    "from sklearn.linear_model import LinearRegression\n",
    "from sklearn.preprocessing import PolynomialFeatures"
   ]
  },
  {
   "cell_type": "code",
   "execution_count": 6,
   "metadata": {},
   "outputs": [
    {
     "name": "stdout",
     "output_type": "stream",
     "text": [
      "-----------------------------------------------------------------\n",
      "\t\t\tFeature: Employees \n",
      "\n",
      "Linear Regression Score: 0.5250365921404144\n",
      "Polynomial Regression of degree(2) Score: 0.5091385976617065\n",
      "Polynomial Regression of degree(3) Score: 0.4935879260041899\n",
      "Polynomial Regression of degree(4) Score: 0.4970410704747571\n",
      "Polynomial Regression of degree(5) Score: 0.4983314889701612\n",
      "Polynomial Regression of degree(6) Score: 0.476199275794179\n",
      "Polynomial Regression of degree(7) Score: 0.45070151806100445\n",
      "Polynomial Regression of degree(8) Score: 0.4325748472886447\n",
      "Polynomial Regression of degree(9) Score: 0.4271467279946003\n",
      "Polynomial Regression of degree(10) Score: 0.40620727598257766\n",
      "-----------------------------------------------------------------\n",
      "\t\t\tFeature: Products \n",
      "\n",
      "Linear Regression Score: -0.32660946540635716\n",
      "Polynomial Regression of degree(2) Score: -0.24856744246221107\n",
      "Polynomial Regression of degree(3) Score: -0.2197084729297183\n",
      "Polynomial Regression of degree(4) Score: -0.21954572767171388\n",
      "Polynomial Regression of degree(5) Score: -0.1492603058633506\n",
      "Polynomial Regression of degree(6) Score: -0.3274843110662331\n",
      "Polynomial Regression of degree(7) Score: -0.6355862590442722\n",
      "Polynomial Regression of degree(8) Score: -0.7989444655886793\n",
      "Polynomial Regression of degree(9) Score: -0.8191371681826929\n",
      "Polynomial Regression of degree(10) Score: -0.8083891497141018\n",
      "-----------------------------------------------------------------\n",
      "\t\t\tFeature: Clients \n",
      "\n",
      "Linear Regression Score: -0.1259391100623115\n",
      "Polynomial Regression of degree(2) Score: -0.11072453114921976\n",
      "Polynomial Regression of degree(3) Score: -0.0786204804854218\n",
      "Polynomial Regression of degree(4) Score: -0.03726155579184365\n",
      "Polynomial Regression of degree(5) Score: -0.06854131906876115\n",
      "Polynomial Regression of degree(6) Score: -0.08802189148390105\n",
      "Polynomial Regression of degree(7) Score: -0.09482455371079945\n",
      "Polynomial Regression of degree(8) Score: -0.2309578084581454\n",
      "Polynomial Regression of degree(9) Score: -0.22618062326254118\n",
      "Polynomial Regression of degree(10) Score: -0.3321281838318171\n",
      "-----------------------------------------------------------------\n",
      "\t\t\tFeature: Turnover \n",
      "\n",
      "Linear Regression Score: 0.6503337060688935\n",
      "Polynomial Regression of degree(2) Score: 0.6467707291375964\n",
      "Polynomial Regression of degree(3) Score: 0.6467579672935759\n",
      "Polynomial Regression of degree(4) Score: 0.6434165194129802\n",
      "Polynomial Regression of degree(5) Score: 0.672305875744769\n",
      "Polynomial Regression of degree(6) Score: 0.673822148886573\n",
      "Polynomial Regression of degree(7) Score: 0.6522929442892139\n",
      "Polynomial Regression of degree(8) Score: 0.6096649538052237\n",
      "Polynomial Regression of degree(9) Score: 0.5467880462121827\n",
      "Polynomial Regression of degree(10) Score: 0.4688034776177544\n",
      "-----------------------------------------------------------------\n",
      "\t\t\tFeature: Atrition \n",
      "\n",
      "Linear Regression Score: -0.2645376514772255\n",
      "Polynomial Regression of degree(2) Score: -0.2584938046341603\n",
      "Polynomial Regression of degree(3) Score: -0.24321944561561404\n",
      "Polynomial Regression of degree(4) Score: -0.259978941645179\n",
      "Polynomial Regression of degree(5) Score: -0.23708622332453833\n",
      "Polynomial Regression of degree(6) Score: -0.21163085810584326\n",
      "Polynomial Regression of degree(7) Score: -0.32574133762177837\n",
      "Polynomial Regression of degree(8) Score: -0.40288638082502515\n",
      "Polynomial Regression of degree(9) Score: -0.39850399781598744\n",
      "Polynomial Regression of degree(10) Score: -0.3755278097007284\n"
     ]
    }
   ],
   "source": [
    "features = ['Employees', 'Products', 'Clients', 'Turnover', 'Atrition']\n",
    "for i in range(len(x_train[0])):\n",
    "  print(\"-\"*65)\n",
    "  print(\"\\t\\t\\tFeature:\", features[i],'\\n' )\n",
    "  X = x_train[:, i:i+1]\n",
    "  X_test = x_test[: , i:i+1]\n",
    "  reg = LinearRegression()\n",
    "  reg.fit(X, y_train)\n",
    "  reg_score = reg.score(X_test, y_test)\n",
    "  print(\"Linear Regression Score:\", reg_score)\n",
    "  for d in range(2, 11):\n",
    "    poly= PolynomialFeatures(degree = d)\n",
    "    X_poly = poly.fit_transform(X)\n",
    "    X_poly_test = poly.fit_transform(X_test)\n",
    "    reg_poly = LinearRegression()\n",
    "    reg_poly.fit(X_poly, y_train)\n",
    "    reg_poly_score = reg_poly.score(X_poly_test, y_test)\n",
    "    print(\"Polynomial Regression of degree(\"+str(d)+\") Score:\", reg_poly_score)\n"
   ]
  },
  {
   "cell_type": "markdown",
   "metadata": {},
   "source": [
    "<h2>As we can see according to the R-Squared Scores in all features no polynomial regression approach performs significantly better than a linear regression approach.<h2>\n",
    "<h1>Therefore we can conclude that a linear regression approach is fitting the data well!"
   ]
  }
 ],
 "metadata": {
  "interpreter": {
   "hash": "e7370f93d1d0cde622a1f8e1c04877d8463912d04d973331ad4851f04de6915a"
  },
  "kernelspec": {
   "display_name": "Python 3.9.7 64-bit",
   "name": "python3"
  },
  "language_info": {
   "codemirror_mode": {
    "name": "ipython",
    "version": 3
   },
   "file_extension": ".py",
   "mimetype": "text/x-python",
   "name": "python",
   "nbconvert_exporter": "python",
   "pygments_lexer": "ipython3",
   "version": "3.9.7"
  },
  "orig_nbformat": 4
 },
 "nbformat": 4,
 "nbformat_minor": 2
}
