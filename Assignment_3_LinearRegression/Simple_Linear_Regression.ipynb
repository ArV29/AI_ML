{
 "cells": [
  {
   "cell_type": "markdown",
   "metadata": {},
   "source": [
    "<h1>Importing modules and Reading Dataset"
   ]
  },
  {
   "cell_type": "code",
   "execution_count": 25,
   "metadata": {},
   "outputs": [],
   "source": [
    "import numpy as np\n",
    "import pandas as pd\n",
    "\n",
    "data = pd.read_csv(\"regression_problem.xls\")"
   ]
  },
  {
   "cell_type": "code",
   "execution_count": 26,
   "metadata": {},
   "outputs": [],
   "source": [
    "x = data[[\"Employees\"]].values\n",
    "y = data[[\"Profit\"]].values  "
   ]
  },
  {
   "cell_type": "markdown",
   "metadata": {},
   "source": [
    "<h1>Splitting into Test/Train sets"
   ]
  },
  {
   "cell_type": "code",
   "execution_count": 27,
   "metadata": {},
   "outputs": [],
   "source": [
    "from sklearn.model_selection import train_test_split\n",
    "x_train, x_test, y_train, y_test = train_test_split(x, y, test_size = 1/5 , random_state=29)"
   ]
  },
  {
   "cell_type": "markdown",
   "metadata": {},
   "source": [
    "<h1>Creating a prediction model based on Simple Linear Regression"
   ]
  },
  {
   "cell_type": "code",
   "execution_count": 28,
   "metadata": {},
   "outputs": [
    {
     "data": {
      "text/plain": [
       "LinearRegression()"
      ]
     },
     "execution_count": 28,
     "metadata": {},
     "output_type": "execute_result"
    }
   ],
   "source": [
    "from sklearn.linear_model import  LinearRegression\n",
    "linear_regressor = LinearRegression()\n",
    "linear_regressor.fit(x_train, y_train)"
   ]
  },
  {
   "cell_type": "code",
   "execution_count": 29,
   "metadata": {},
   "outputs": [],
   "source": [
    "y_train_pred = linear_regressor.predict(x_train)\n",
    "y_test_pred = linear_regressor.predict(x_test)"
   ]
  },
  {
   "cell_type": "markdown",
   "metadata": {},
   "source": [
    "<h1>Using Various metrics to judge to viability of the model"
   ]
  },
  {
   "cell_type": "code",
   "execution_count": 30,
   "metadata": {},
   "outputs": [
    {
     "name": "stdout",
     "output_type": "stream",
     "text": [
      "Baseline Prediction: 4150.0\n"
     ]
    }
   ],
   "source": [
    "baseline_pred = np.round(y_train.mean())\n",
    "print('Baseline Prediction:', baseline_pred)\n"
   ]
  },
  {
   "cell_type": "code",
   "execution_count": 31,
   "metadata": {},
   "outputs": [
    {
     "name": "stdout",
     "output_type": "stream",
     "text": [
      "Baseling Model SSE: 624762396.7452\n",
      "Regression Model SSE: 160645854.26313066\n",
      "Difference: 464116542.4820694\n"
     ]
    }
   ],
   "source": [
    "diff = y_train - baseline_pred\n",
    "squared_diff = diff**2\n",
    "sse = squared_diff.sum()\n",
    "print(\"Baseling Model SSE:\", sse)\n",
    "y_train_pred = linear_regressor.predict(x_train)\n",
    "sse_train = ((y_train - y_train_pred)**2).sum()\n",
    "print(\"Regression Model SSE:\", sse_train)\n",
    "print(\"Difference:\", (sse-sse_train))\n"
   ]
  },
  {
   "cell_type": "code",
   "execution_count": 32,
   "metadata": {},
   "outputs": [
    {
     "name": "stdout",
     "output_type": "stream",
     "text": [
      "Baseline R-Squared Score: -2.5097479650071364e-11\n",
      "Train R-Squared Score: 0.7428688808672339\n",
      "Test R-Squared Score: 0.8065171216342856\n"
     ]
    }
   ],
   "source": [
    "from sklearn.metrics import r2_score\n",
    "baseline_score = r2_score(y_train, [baseline_pred]*len(y_train))\n",
    "model_score = r2_score(y_train, y_train_pred)\n",
    "test_score = r2_score(y_test, y_test_pred)\n",
    "print(\"Baseline R-Squared Score:\", baseline_score)\n",
    "print(\"Train R-Squared Score:\", model_score)\n",
    "print(\"Test R-Squared Score:\", test_score)\n"
   ]
  },
  {
   "cell_type": "markdown",
   "metadata": {},
   "source": [
    "<h2>According to the score the model has high enough accuracy<br>and good performance as the train/test dataset scores are comparable"
   ]
  },
  {
   "cell_type": "markdown",
   "metadata": {},
   "source": []
  }
 ],
 "metadata": {
  "interpreter": {
   "hash": "e7370f93d1d0cde622a1f8e1c04877d8463912d04d973331ad4851f04de6915a"
  },
  "kernelspec": {
   "display_name": "Python 3.9.7 64-bit",
   "name": "python3"
  },
  "language_info": {
   "codemirror_mode": {
    "name": "ipython",
    "version": 3
   },
   "file_extension": ".py",
   "mimetype": "text/x-python",
   "name": "python",
   "nbconvert_exporter": "python",
   "pygments_lexer": "ipython3",
   "version": "3.9.7"
  },
  "orig_nbformat": 4
 },
 "nbformat": 4,
 "nbformat_minor": 2
}
