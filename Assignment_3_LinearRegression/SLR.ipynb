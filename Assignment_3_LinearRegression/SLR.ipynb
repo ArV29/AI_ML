{
 "cells": [
  {
   "cell_type": "code",
   "execution_count": 5,
   "metadata": {},
   "outputs": [
    {
     "name": "stdout",
     "output_type": "stream",
     "text": [
      "Baseline Pred 4369.0\n",
      "Baseling SSE: 506930812.5514\n",
      "Regression SSE: 142593877.9585005\n",
      "Baseline R-Squared Score: -1.2075343391870774e-08\n",
      "Train R-Squared Score: 0.7187113583356854\n",
      "Test R-Squared Score: 0.8286206952048895\n"
     ]
    }
   ],
   "source": [
    "from sklearn.metrics import r2_score\n",
    "from sklearn.linear_model import  LinearRegression\n",
    "from sklearn.model_selection import train_test_split\n",
    "import numpy as np\n",
    "import pandas as pd\n",
    "\n",
    "data = pd.read_csv(\"regression_problem.xls\")\n",
    "x = data[[\"Employees\"]].values\n",
    "y = data[[\"Profit\"]].values\n",
    "x_train, x_test, y_train, y_test = train_test_split(\n",
    "    x, y, test_size=1/3, random_state=42)\n",
    "linear_regressor = LinearRegression()\n",
    "linear_regressor.fit(x_train, y_train)\n",
    "y_train_pred = linear_regressor.predict(x_train)\n",
    "y_test_pred = linear_regressor.predict(x_test)\n",
    "baseline_pred = np.round(y_train.mean())\n",
    "print('Baseline Pred', baseline_pred)\n",
    "difference = y_train - baseline_pred\n",
    "squared= difference**2\n",
    "sse = squared.sum()\n",
    "print(\"Baseling SSE:\", sse)\n",
    "y_train_pred = linear_regressor.predict(x_train)\n",
    "sse_train = ((y_train - y_train_pred)**2).sum()\n",
    "print(\"Regression SSE:\", sse_train)\n",
    "baseline_score = r2_score(y_train, [baseline_pred]*len(y_train))\n",
    "model_score = r2_score(y_train, y_train_pred)\n",
    "test_score = r2_score(y_test, y_test_pred)\n",
    "print(\"Baseline R-Squared Score:\", baseline_score)\n",
    "print(\"Train R-Squared Score:\", model_score)\n",
    "print(\"Test R-Squared Score:\", test_score)\n"
   ]
  }
 ],
 "metadata": {
  "interpreter": {
   "hash": "e7370f93d1d0cde622a1f8e1c04877d8463912d04d973331ad4851f04de6915a"
  },
  "kernelspec": {
   "display_name": "Python 3.9.7 64-bit",
   "name": "python3"
  },
  "language_info": {
   "codemirror_mode": {
    "name": "ipython",
    "version": 3
   },
   "file_extension": ".py",
   "mimetype": "text/x-python",
   "name": "python",
   "nbconvert_exporter": "python",
   "pygments_lexer": "ipython3",
   "version": "3.9.7"
  },
  "orig_nbformat": 4
 },
 "nbformat": 4,
 "nbformat_minor": 2
}
