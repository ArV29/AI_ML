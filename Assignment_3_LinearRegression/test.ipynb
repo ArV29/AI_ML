{
 "cells": [
  {
   "cell_type": "code",
   "execution_count": 6,
   "metadata": {},
   "outputs": [
    {
     "name": "stdout",
     "output_type": "stream",
     "text": [
      "Employees\n",
      "Linear Regression Score: 0.8065171216342856\n",
      "Polynomial RegressionScore: 0.7921289587100795\n",
      "Products\n",
      "Linear Regression Score: -0.0334206739944829\n",
      "Polynomial RegressionScore: -0.020648783289319406\n",
      "Clients\n",
      "Linear Regression Score: -0.022258741644070268\n",
      "Polynomial RegressionScore: 0.01037667838296319\n",
      "Turnover\n",
      "Linear Regression Score: 0.8120114855789042\n",
      "Polynomial RegressionScore: 0.8149214063747766\n",
      "Atrition\n",
      "Linear Regression Score: -0.02108757121948357\n",
      "Polynomial RegressionScore: -0.027130586388232736\n"
     ]
    }
   ],
   "source": [
    "from sklearn.preprocessing import PolynomialFeatures\n",
    "from sklearn.linear_model import LinearRegression\n",
    "from sklearn.model_selection import train_test_split\n",
    "import numpy as np\n",
    "import pandas as pd\n",
    "data = pd.read_csv('regression_problem.xls')\n",
    "x = data[['Employees', 'Products', 'Clients', 'Turnover', 'Atrition']].values\n",
    "y = data[['Profit']].values\n",
    "x_train, x_test, y_train, y_test = train_test_split(x, y, test_size = 0.2, random_state=29)\n",
    "features = ['Employees', 'Products', 'Clients', 'Turnover', 'Atrition']\n",
    "for i in range(len(x_train[0])):\n",
    "  print(features[i])\n",
    "  f = x_train[:, i:i+1]\n",
    "  f_test = x_test[:, i:i+1]\n",
    "  reg = LinearRegression()\n",
    "  reg.fit(f, y_train)\n",
    "  reg_score = reg.score(f_test, y_test)\n",
    "  print(\"Linear Regression Score:\", reg_score)\n",
    "  poly = PolynomialFeatures(2)\n",
    "  f_poly = poly.fit_transform(f)\n",
    "  f_poly_test = poly.fit_transform(f_test)\n",
    "  reg_poly = LinearRegression()\n",
    "  reg_poly.fit(f_poly, y_train)\n",
    "  reg_poly_score = reg_poly.score(f_poly_test, y_test)\n",
    "  print(\"Polynomial RegressionScore:\", reg_poly_score)\n"
   ]
  },
  {
   "cell_type": "markdown",
   "metadata": {},
   "source": [
    "linear regression better as no noticeable difference"
   ]
  }
 ],
 "metadata": {
  "interpreter": {
   "hash": "e7370f93d1d0cde622a1f8e1c04877d8463912d04d973331ad4851f04de6915a"
  },
  "kernelspec": {
   "display_name": "Python 3.9.7 64-bit",
   "name": "python3"
  },
  "language_info": {
   "codemirror_mode": {
    "name": "ipython",
    "version": 3
   },
   "file_extension": ".py",
   "mimetype": "text/x-python",
   "name": "python",
   "nbconvert_exporter": "python",
   "pygments_lexer": "ipython3",
   "version": "3.9.7"
  },
  "orig_nbformat": 4
 },
 "nbformat": 4,
 "nbformat_minor": 2
}
